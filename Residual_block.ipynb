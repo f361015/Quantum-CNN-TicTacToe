{
 "cells": [
  {
   "cell_type": "code",
   "execution_count": 19,
   "id": "fdda3ac3-16c9-4b2b-a7ec-d05de8e436ca",
   "metadata": {},
   "outputs": [],
   "source": [
    "from qiskit import QuantumCircuit, QuantumRegister\n",
    "from qiskit.circuit import Gate\n",
    "from qiskit.circuit import Parameter"
   ]
  },
  {
   "cell_type": "code",
   "execution_count": 15,
   "id": "7f2ba990-d70a-4088-bf57-773514efc881",
   "metadata": {},
   "outputs": [],
   "source": [
    "def res_block(l_gate: Gate, data: QuantumRegister):\n",
    "    anc = QuantumRegister(1, '0')\n",
    "    qc = QuantumCircuit(anc, data)\n",
    "\n",
    "    qc.h(anc[0])\n",
    "    controlled_l = l_gate.control()\n",
    "    \n",
    "    qc.append(controlled_l, [anc[0]] + list(data))\n",
    "\n",
    "    qc.h(anc[0])\n",
    "    return qc\n"
   ]
  },
  {
   "cell_type": "code",
   "execution_count": 16,
   "id": "829ceab4-092a-497c-b607-c316967a9d0e",
   "metadata": {},
   "outputs": [],
   "source": [
    "from qiskit import QuantumCircuit, QuantumRegister, ClassicalRegister\n",
    "from qiskit.circuit import Gate, Parameter\n",
    "\n",
    "def res_block_r1(l_gate: Gate, data: QuantumRegister):\n",
    "    # Define registers\n",
    "    anc = QuantumRegister(1, 'anc')   # Ancilla qubit\n",
    "    c = ClassicalRegister(1, 'c')     # Classical register for ancilla measurement\n",
    "    qc = QuantumCircuit(anc, data, c)\n",
    "\n",
    "    # Define trainable parameter alpha\n",
    "    alpha = Parameter('α')\n",
    "\n",
    "    # Step 1: Apply Ry(2α) instead of Hadamard\n",
    "    qc.ry(2 * alpha, anc[0])\n",
    "\n",
    "    # Step 2: Apply controlled-L(⋄)\n",
    "    controlled_l = l_gate.control()\n",
    "    qc.append(controlled_l, [anc[0]] + list(data))\n",
    "\n",
    "    # Step 3: Apply Hadamard on ancilla (optional — for more general form, use Ry(2β))\n",
    "    qc.h(anc[0])\n",
    "\n",
    "    # Step 4: Measure ancilla\n",
    "    # qc.measure(anc[0], c[0])\n",
    "\n",
    "    return qc\n"
   ]
  },
  {
   "cell_type": "code",
   "execution_count": 18,
   "id": "af413b2f-e8ae-4330-9351-e9876606f166",
   "metadata": {},
   "outputs": [
    {
     "data": {
      "image/png": "[encoded data removed]",
      "text/plain": [
       "<Figure size 417.78x367.889 with 1 Axes>"
      ]
     },
     "execution_count": 18,
     "metadata": {},
     "output_type": "execute_result"
    }
   ],
   "source": [
    "data = QuantumRegister(2, 'data')\n",
    "\n",
    "# Create 2-qubit gate: H on qubit 0, CNOT between 0 and 1\n",
    "qc_l = QuantumCircuit(2)\n",
    "qc_l.h(0)\n",
    "\n",
    "qc_l.cx(0, 1)\n",
    "l_gate = qc_l.to_gate(label=\"L\")\n",
    "\n",
    "qc = res_block_r1(l_gate, data)\n",
    "qc.draw(\"mpl\")\n"
   ]
  },
  {
   "cell_type": "code",
   "execution_count": 22,
   "id": "1d380f5f-01c1-41d0-bdfd-f5e49a9beeac",
   "metadata": {},
   "outputs": [
    {
     "data": {
      "text/latex": [
       "$$0.8536116326 |000\\rangle+0.1467864515 |001\\rangle+0.3534125906 |110\\rangle-0.3534125906 |111\\rangle$$"
      ],
      "text/plain": [
       "<IPython.core.display.Latex object>"
      ]
     },
     "execution_count": 22,
     "metadata": {},
     "output_type": "execute_result"
    }
   ],
   "source": [
    "from qiskit.quantum_info import Statevector\n",
    "\n",
    "alpha = list(qc.parameters)[0]\n",
    "qc = qc.assign_parameters({alpha: 3.14/4})\n",
    "psi = Statevector(qc)\n",
    "psi.draw('latex')"
   ]
  }
 ],
 "metadata": {
  "kernelspec": {
   "display_name": "Python 3 (ipykernel)",
   "language": "python",
   "name": "python3"
  },
  "language_info": {
   "codemirror_mode": {
    "name": "ipython",
    "version": 3
   },
   "file_extension": ".py",
   "mimetype": "text/x-python",
   "name": "python",
   "nbconvert_exporter": "python",
   "pygments_lexer": "ipython3",
   "version": "3.12.7"
  }
 },
 "nbformat": 4,
 "nbformat_minor": 5
}
